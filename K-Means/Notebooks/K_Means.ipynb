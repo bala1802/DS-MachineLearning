{
 "cells": [
  {
   "cell_type": "markdown",
   "id": "a0add594",
   "metadata": {},
   "source": [
    "# Understanding K-Means algorithm using Scikit learn library"
   ]
  },
  {
   "cell_type": "markdown",
   "id": "82b81497",
   "metadata": {},
   "source": [
    "#### What is Clustering?"
   ]
  },
  {
   "cell_type": "markdown",
   "id": "cf872fab",
   "metadata": {},
   "source": [
    "Clustering is the task of segmenting a set of data into distinct groups such that the data points in the same group will bear similar characteristics as opposed those data points which lie in the groups/clusters. Our main objective here is to segregate groups having similar characteristics assign them unique clusters.\n",
    "\n",
    "- The points present in the same cluster should have similar properties\n",
    "\n",
    "- The points present in the different clusters should be as dissimilar as possible"
   ]
  },
  {
   "cell_type": "markdown",
   "id": "e4036553",
   "metadata": {},
   "source": [
    "#### What is K-Means algorithm?"
   ]
  },
  {
   "cell_type": "markdown",
   "id": "8039ee11",
   "metadata": {},
   "source": [
    "K-Means Clustering comes under the category of Unsupervised Machine Learning algorithms, these algorithms group an unlabeled dataset into distinct clusters. The K defines the number of pre-defined clusters that need to be created, for instance, if K=2, there will be 2 clusters, similarly for K=3, there will be three clusters. The primary goal while implementing k-means involves defining k clusters such that total within-cluster variation (or error) is minimum.\n",
    "\n",
    "The cluster center is the arithmetic mean of all the data points that belong to that cluster. The squared distance between every given point and its cluster center is called variation. The goal of the k-means clustering is to ascertain these k clusters and their centers whilst reducing the total error."
   ]
  },
  {
   "attachments": {
    "k-means-01.png": {
     "image/png": "[encoded data removed]"
    }
   },
   "cell_type": "markdown",
   "id": "f982775d",
   "metadata": {},
   "source": [
    "![k-means-01.png](attachment:k-means-01.png)"
   ]
  },
  {
   "cell_type": "markdown",
   "id": "5dd23f2e",
   "metadata": {},
   "source": [
    "#### How does the K-Means algorithm work?"
   ]
  },
  {
   "cell_type": "markdown",
   "id": "4f7bcbe6",
   "metadata": {},
   "source": [
    "`Step-1`: To decide the number of clusters, we select an appropriate value of `K`.\n",
    "\n",
    "`Step-2`: Now choose random `K` points/centroids\n",
    "\n",
    "`Step-3`: Each data point will be assigned to its nearest centroid and this will form a predefined cluster.\n",
    "\n",
    "`Step-4`: Now we shall calculate variance and position a new centroid for every cluster.\n",
    "\n",
    "`Step-5`: The 3rd step will be repeated, meaning, every data point will be assigned to the new nearest centroid.\n",
    "\n",
    "`Step-6`: If a reassignment has occurred then step-4 shall be executed otherwise execution finishes.\n",
    "\n",
    "`Step-7`: Finally, the model is ready"
   ]
  },
  {
   "cell_type": "markdown",
   "id": "0d77a753",
   "metadata": {},
   "source": [
    "# Examples of K-Means Clustering in Python Sklearn"
   ]
  },
  {
   "cell_type": "markdown",
   "id": "57ab4327",
   "metadata": {},
   "source": [
    "#### Import Libraries"
   ]
  },
  {
   "cell_type": "code",
   "execution_count": 13,
   "id": "934b57e8",
   "metadata": {},
   "outputs": [],
   "source": [
    "from sklearn.cluster import KMeans\n",
    "from sklearn import preprocessing\n",
    "import sklearn.cluster as cluster\n",
    "import sklearn.metrics as metrics\n",
    "import pandas as pd\n",
    "from sklearn.preprocessing import MinMaxScaler\n",
    "import seaborn as sns\n",
    "from matplotlib import pyplot as plt"
   ]
  },
  {
   "cell_type": "markdown",
   "id": "82774549",
   "metadata": {},
   "source": [
    "#### Load Dataset"
   ]
  },
  {
   "cell_type": "code",
   "execution_count": 14,
   "id": "bfebcbba",
   "metadata": {},
   "outputs": [
    {
     "data": {
      "text/html": [
       "<div>\n",
       "<style scoped>\n",
       "    .dataframe tbody tr th:only-of-type {\n",
       "        vertical-align: middle;\n",
       "    }\n",
       "\n",
       "    .dataframe tbody tr th {\n",
       "        vertical-align: top;\n",
       "    }\n",
       "\n",
       "    .dataframe thead th {\n",
       "        text-align: right;\n",
       "    }\n",
       "</style>\n",
       "<table border=\"1\" class=\"dataframe\">\n",
       "  <thead>\n",
       "    <tr style=\"text-align: right;\">\n",
       "      <th></th>\n",
       "      <th>CustomerID</th>\n",
       "      <th>Genre</th>\n",
       "      <th>Age</th>\n",
       "      <th>Annual Income (k$)</th>\n",
       "      <th>Spending Score (1-100)</th>\n",
       "    </tr>\n",
       "  </thead>\n",
       "  <tbody>\n",
       "    <tr>\n",
       "      <th>0</th>\n",
       "      <td>1</td>\n",
       "      <td>Male</td>\n",
       "      <td>19</td>\n",
       "      <td>15</td>\n",
       "      <td>39</td>\n",
       "    </tr>\n",
       "    <tr>\n",
       "      <th>1</th>\n",
       "      <td>2</td>\n",
       "      <td>Male</td>\n",
       "      <td>21</td>\n",
       "      <td>15</td>\n",
       "      <td>81</td>\n",
       "    </tr>\n",
       "    <tr>\n",
       "      <th>2</th>\n",
       "      <td>3</td>\n",
       "      <td>Female</td>\n",
       "      <td>20</td>\n",
       "      <td>16</td>\n",
       "      <td>6</td>\n",
       "    </tr>\n",
       "    <tr>\n",
       "      <th>3</th>\n",
       "      <td>4</td>\n",
       "      <td>Female</td>\n",
       "      <td>23</td>\n",
       "      <td>16</td>\n",
       "      <td>77</td>\n",
       "    </tr>\n",
       "    <tr>\n",
       "      <th>4</th>\n",
       "      <td>5</td>\n",
       "      <td>Female</td>\n",
       "      <td>31</td>\n",
       "      <td>17</td>\n",
       "      <td>40</td>\n",
       "    </tr>\n",
       "  </tbody>\n",
       "</table>\n",
       "</div>"
      ],
      "text/plain": [
       "   CustomerID   Genre  Age  Annual Income (k$)  Spending Score (1-100)\n",
       "0           1    Male   19                  15                      39\n",
       "1           2    Male   21                  15                      81\n",
       "2           3  Female   20                  16                       6\n",
       "3           4  Female   23                  16                      77\n",
       "4           5  Female   31                  17                      40"
      ]
     },
     "execution_count": 14,
     "metadata": {},
     "output_type": "execute_result"
    }
   ],
   "source": [
    "df = pd.read_csv(r\"../Datasets/Mall_Customers.csv\")\n",
    "df.head()"
   ]
  },
  {
   "cell_type": "markdown",
   "id": "bee49e4f",
   "metadata": {},
   "source": [
    "Rename the Column name `Genre` to `Gender`"
   ]
  },
  {
   "cell_type": "code",
   "execution_count": 15,
   "id": "d028606d",
   "metadata": {},
   "outputs": [],
   "source": [
    "df.rename(columns = {'Genre':'Gender'}, inplace = True)"
   ]
  },
  {
   "cell_type": "code",
   "execution_count": 16,
   "id": "9c741440",
   "metadata": {},
   "outputs": [
    {
     "data": {
      "text/html": [
       "<div>\n",
       "<style scoped>\n",
       "    .dataframe tbody tr th:only-of-type {\n",
       "        vertical-align: middle;\n",
       "    }\n",
       "\n",
       "    .dataframe tbody tr th {\n",
       "        vertical-align: top;\n",
       "    }\n",
       "\n",
       "    .dataframe thead th {\n",
       "        text-align: right;\n",
       "    }\n",
       "</style>\n",
       "<table border=\"1\" class=\"dataframe\">\n",
       "  <thead>\n",
       "    <tr style=\"text-align: right;\">\n",
       "      <th></th>\n",
       "      <th>CustomerID</th>\n",
       "      <th>Gender</th>\n",
       "      <th>Age</th>\n",
       "      <th>Annual Income (k$)</th>\n",
       "      <th>Spending Score (1-100)</th>\n",
       "    </tr>\n",
       "  </thead>\n",
       "  <tbody>\n",
       "    <tr>\n",
       "      <th>0</th>\n",
       "      <td>1</td>\n",
       "      <td>Male</td>\n",
       "      <td>19</td>\n",
       "      <td>15</td>\n",
       "      <td>39</td>\n",
       "    </tr>\n",
       "    <tr>\n",
       "      <th>1</th>\n",
       "      <td>2</td>\n",
       "      <td>Male</td>\n",
       "      <td>21</td>\n",
       "      <td>15</td>\n",
       "      <td>81</td>\n",
       "    </tr>\n",
       "    <tr>\n",
       "      <th>2</th>\n",
       "      <td>3</td>\n",
       "      <td>Female</td>\n",
       "      <td>20</td>\n",
       "      <td>16</td>\n",
       "      <td>6</td>\n",
       "    </tr>\n",
       "    <tr>\n",
       "      <th>3</th>\n",
       "      <td>4</td>\n",
       "      <td>Female</td>\n",
       "      <td>23</td>\n",
       "      <td>16</td>\n",
       "      <td>77</td>\n",
       "    </tr>\n",
       "    <tr>\n",
       "      <th>4</th>\n",
       "      <td>5</td>\n",
       "      <td>Female</td>\n",
       "      <td>31</td>\n",
       "      <td>17</td>\n",
       "      <td>40</td>\n",
       "    </tr>\n",
       "  </tbody>\n",
       "</table>\n",
       "</div>"
      ],
      "text/plain": [
       "   CustomerID  Gender  Age  Annual Income (k$)  Spending Score (1-100)\n",
       "0           1    Male   19                  15                      39\n",
       "1           2    Male   21                  15                      81\n",
       "2           3  Female   20                  16                       6\n",
       "3           4  Female   23                  16                      77\n",
       "4           5  Female   31                  17                      40"
      ]
     },
     "execution_count": 16,
     "metadata": {},
     "output_type": "execute_result"
    }
   ],
   "source": [
    "df.head()"
   ]
  },
  {
   "cell_type": "code",
   "execution_count": 17,
   "id": "d537c79f",
   "metadata": {},
   "outputs": [
    {
     "data": {
      "text/plain": [
       "(200, 5)"
      ]
     },
     "execution_count": 17,
     "metadata": {},
     "output_type": "execute_result"
    }
   ],
   "source": [
    "df.shape"
   ]
  },
  {
   "cell_type": "markdown",
   "id": "5892d602",
   "metadata": {},
   "source": [
    "#### Dataset description\n",
    "\n",
    "The above Mall_Customers dataset holds the below columns:\n",
    "\n",
    "- `CustomerID`\n",
    "\n",
    "- `Gender`\n",
    "\n",
    "- `Age`\n",
    "\n",
    "- `Annual Income` \n",
    "\n",
    "- `Spending Score`\n",
    "\n",
    "The dataset holds `200` customer records and `5` fields"
   ]
  },
  {
   "cell_type": "markdown",
   "id": "fbe80020",
   "metadata": {},
   "source": [
    "#### Objective\n",
    "\n",
    "Customer segmentation deals with grouping clusters together based on some common patterns within their attributes. Lets visualize the clustering on a 2-D graph using two attributes `Annual Income` and `Spending Score`"
   ]
  },
  {
   "cell_type": "markdown",
   "id": "5f7bb8f6",
   "metadata": {},
   "source": [
    "#### Apply Feature Scaling\n",
    "\n",
    "Feature scaling of the data as a part of data preprocessing is required in K-Means algortithm to produce good result. This is because clustering technique uses distance calculation between the data points. Hence it is proper to bring data of different units under a common scale.\n",
    "\n",
    "The `Annual Income` and `Spending Score` are normalized using `MinMaxScaler`, and the scaled attributes are store into the new `DataFrame` `df_scale`"
   ]
  },
  {
   "cell_type": "code",
   "execution_count": 18,
   "id": "24fc86a1",
   "metadata": {},
   "outputs": [
    {
     "data": {
      "text/html": [
       "<div>\n",
       "<style scoped>\n",
       "    .dataframe tbody tr th:only-of-type {\n",
       "        vertical-align: middle;\n",
       "    }\n",
       "\n",
       "    .dataframe tbody tr th {\n",
       "        vertical-align: top;\n",
       "    }\n",
       "\n",
       "    .dataframe thead th {\n",
       "        text-align: right;\n",
       "    }\n",
       "</style>\n",
       "<table border=\"1\" class=\"dataframe\">\n",
       "  <thead>\n",
       "    <tr style=\"text-align: right;\">\n",
       "      <th></th>\n",
       "      <th>Annual Income (k$)</th>\n",
       "      <th>Spending Score (1-100)</th>\n",
       "    </tr>\n",
       "  </thead>\n",
       "  <tbody>\n",
       "    <tr>\n",
       "      <th>0</th>\n",
       "      <td>0.000000</td>\n",
       "      <td>0.387755</td>\n",
       "    </tr>\n",
       "    <tr>\n",
       "      <th>1</th>\n",
       "      <td>0.000000</td>\n",
       "      <td>0.816327</td>\n",
       "    </tr>\n",
       "    <tr>\n",
       "      <th>2</th>\n",
       "      <td>0.008197</td>\n",
       "      <td>0.051020</td>\n",
       "    </tr>\n",
       "    <tr>\n",
       "      <th>3</th>\n",
       "      <td>0.008197</td>\n",
       "      <td>0.775510</td>\n",
       "    </tr>\n",
       "    <tr>\n",
       "      <th>4</th>\n",
       "      <td>0.016393</td>\n",
       "      <td>0.397959</td>\n",
       "    </tr>\n",
       "  </tbody>\n",
       "</table>\n",
       "</div>"
      ],
      "text/plain": [
       "   Annual Income (k$)  Spending Score (1-100)\n",
       "0            0.000000                0.387755\n",
       "1            0.000000                0.816327\n",
       "2            0.008197                0.051020\n",
       "3            0.008197                0.775510\n",
       "4            0.016393                0.397959"
      ]
     },
     "execution_count": 18,
     "metadata": {},
     "output_type": "execute_result"
    }
   ],
   "source": [
    "scaler = MinMaxScaler() #Scaler definition\n",
    "scale = scaler.fit_transform(df[['Annual Income (k$)','Spending Score (1-100)']])\n",
    "df_scale = pd.DataFrame(scale, columns = ['Annual Income (k$)','Spending Score (1-100)']);\n",
    "df_scale.head()"
   ]
  },
  {
   "cell_type": "markdown",
   "id": "d2805a62",
   "metadata": {},
   "source": [
    "#### Applying `K-Means` with Clusters (`K=2`) "
   ]
  },
  {
   "cell_type": "code",
   "execution_count": 19,
   "id": "5dcd0465",
   "metadata": {},
   "outputs": [
    {
     "data": {
      "text/plain": [
       "array([0, 1, 0, 1, 0, 1, 0, 1, 0, 1, 0, 1, 0, 1, 0, 1, 0, 1, 0, 1, 0, 1,\n",
       "       0, 1, 0, 1, 0, 1, 0, 1, 0, 1, 0, 1, 0, 1, 0, 1, 0, 1, 0, 1, 0, 1,\n",
       "       0, 1, 1, 0, 0, 0, 0, 1, 1, 1, 0, 0, 0, 0, 0, 0, 1, 1, 0, 1, 0, 1,\n",
       "       0, 0, 1, 0, 1, 0, 0, 1, 0, 1, 1, 0, 0, 0, 0, 1, 0, 0, 1, 0, 1, 1,\n",
       "       1, 0, 1, 0, 0, 0, 0, 0, 0, 0, 0, 0, 0, 0, 1, 1, 1, 0, 0, 0, 0, 0,\n",
       "       0, 1, 0, 0, 0, 0, 0, 1, 0, 1, 1, 0, 1, 1, 0, 1, 0, 1, 0, 1, 0, 1,\n",
       "       0, 1, 0, 1, 0, 1, 0, 1, 0, 1, 0, 1, 0, 1, 0, 1, 0, 1, 0, 1, 0, 1,\n",
       "       0, 1, 0, 1, 0, 1, 0, 1, 0, 1, 0, 1, 0, 1, 0, 1, 0, 1, 0, 1, 0, 1,\n",
       "       0, 1, 0, 1, 0, 1, 0, 1, 0, 1, 0, 1, 0, 1, 0, 1, 0, 1, 0, 1, 0, 1,\n",
       "       0, 1])"
      ]
     },
     "execution_count": 19,
     "metadata": {},
     "output_type": "execute_result"
    }
   ],
   "source": [
    "km=KMeans(n_clusters=2)\n",
    "y_predicted = km.fit_predict(df_scale[['Annual Income (k$)','Spending Score (1-100)']])\n",
    "y_predicted"
   ]
  },
  {
   "cell_type": "markdown",
   "id": "79158a2e",
   "metadata": {},
   "source": [
    "The above result, holds 2 clusters - `0` and `1`\n",
    "\n",
    "The centroid of the 2 clusters can be identified using the attribute `cluster_centers_` can be used"
   ]
  },
  {
   "cell_type": "code",
   "execution_count": 20,
   "id": "22cdd9b7",
   "metadata": {},
   "outputs": [
    {
     "data": {
      "text/plain": [
       "array([[0.36929553, 0.31163817],\n",
       "       [0.37861485, 0.73950929]])"
      ]
     },
     "execution_count": 20,
     "metadata": {},
     "output_type": "execute_result"
    }
   ],
   "source": [
    "km.cluster_centers_"
   ]
  },
  {
   "cell_type": "markdown",
   "id": "ef56270f",
   "metadata": {},
   "source": [
    "#### Visualizing the clusters"
   ]
  },
  {
   "cell_type": "code",
   "execution_count": 21,
   "id": "b8b3296d",
   "metadata": {},
   "outputs": [
    {
     "data": {
      "image/png": "[encoded data removed]",
      "text/plain": [
       "<Figure size 432x288 with 1 Axes>"
      ]
     },
     "metadata": {
      "needs_background": "light"
     },
     "output_type": "display_data"
    }
   ],
   "source": [
    "df_scale['Clusters'] = km.labels_\n",
    "sns.scatterplot(x=\"Spending Score (1-100)\", y=\"Annual Income (k$)\", hue = 'Clusters', data=df_scale, palette='viridis');"
   ]
  },
  {
   "cell_type": "markdown",
   "id": "56c90a11",
   "metadata": {},
   "source": [
    "From the above visualization, it is evident that the data can be grouped into more than 2 clusters."
   ]
  },
  {
   "cell_type": "markdown",
   "id": "d5d00c7f",
   "metadata": {},
   "source": [
    "#### Finding optimum number of Clusters in K-Means\n",
    "\n",
    "Using the below Trial and Error methods, the number of clusters can be calculated"
   ]
  },
  {
   "cell_type": "markdown",
   "id": "ef7af28c",
   "metadata": {},
   "source": [
    "#### i) Elbow Method with Within-Cluster-Sum of Squared Error (WCSS):\n",
    "\n",
    "For various values of `K`, the Within-Cluster-Sum of Squared Errors (`WCSS`) is calculated, and the `K` for which the `WCSS` starts to diminish is chosen.\n",
    "\n",
    "- The Squared Error for a data point is the square of the distance of a point from its cluster center.\n",
    "\n",
    "- The WSS score is the summation of Squared Errors for all given data points.\n",
    "\n",
    "- Distance metrics like Euclidean Distance or the Manhattan Distance can be used.\n",
    "\n",
    "Example: For the `K` value 2 to 12, the `WCSS` calculation is done."
   ]
  },
  {
   "cell_type": "code",
   "execution_count": 22,
   "id": "01c49f97",
   "metadata": {},
   "outputs": [],
   "source": [
    "K=range(2,12)\n",
    "wss = []\n",
    "\n",
    "for k in K:\n",
    "    kmeans=cluster.KMeans(n_clusters=k)\n",
    "    kmeans=kmeans.fit(df_scale)\n",
    "    wss_iter = kmeans.inertia_ #this inertia attribute calculates the WCSS score\n",
    "    wss.append(wss_iter)"
   ]
  },
  {
   "cell_type": "markdown",
   "id": "33dc7442",
   "metadata": {},
   "source": [
    "Visualize the plot, a graph between the `WCSS` and `K` cluster"
   ]
  },
  {
   "cell_type": "code",
   "execution_count": 23,
   "id": "d46ba42d",
   "metadata": {},
   "outputs": [
    {
     "data": {
      "image/png": "[encoded data removed]",
      "text/plain": [
       "<Figure size 432x288 with 1 Axes>"
      ]
     },
     "metadata": {
      "needs_background": "light"
     },
     "output_type": "display_data"
    }
   ],
   "source": [
    "plt.xlabel('K')\n",
    "plt.ylabel('Within-Cluster-Sum of Squared Errors (WSS)')\n",
    "plt.plot(K,wss);"
   ]
  },
  {
   "cell_type": "markdown",
   "id": "bf9ad849",
   "metadata": {},
   "source": [
    "From the above plot, it is seen that, there is an elbow bend at `K=5` i.e. it is the point after which `WCSS` does not diminish much with the increase in the value of `K`"
   ]
  },
  {
   "cell_type": "markdown",
   "id": "481297aa",
   "metadata": {},
   "source": [
    "#### i) Silhouete Method :\n",
    "\n",
    "The Silhouete value measures the similarity of a data point within its cluster. It has a range between +1 and -1 and the higher values denote a good clustering.\n",
    "\n",
    "Let's calculate the Silhouete score for the value k between 2 and 12"
   ]
  },
  {
   "cell_type": "code",
   "execution_count": 24,
   "id": "167e35ff",
   "metadata": {},
   "outputs": [
    {
     "name": "stdout",
     "output_type": "stream",
     "text": [
      "Silhoute score for k value :  2 , is  0.7162032422193435\n",
      "Silhoute score for k value :  3 , is  0.5922455653512131\n",
      "Silhoute score for k value :  4 , is  0.5054154110821062\n",
      "Silhoute score for k value :  5 , is  0.5469095922434091\n",
      "Silhoute score for k value :  6 , is  0.5674611319762337\n",
      "Silhoute score for k value :  7 , is  0.5554290293821631\n",
      "Silhoute score for k value :  8 , is  0.5429669293190797\n",
      "Silhoute score for k value :  9 , is  0.5156870591905697\n",
      "Silhoute score for k value :  10 , is  0.49866312352381104\n",
      "Silhoute score for k value :  11 , is  0.4966014904550935\n",
      "Silhoute score for k value :  12 , is  0.5002907802756348\n"
     ]
    }
   ],
   "source": [
    "import sklearn.cluster as cluster\n",
    "import sklearn.metrics as metrics\n",
    "\n",
    "for i in range(2, 13):\n",
    "    labels = cluster.KMeans(n_clusters=i, random_state=200).fit(df_scale).labels_\n",
    "    score = metrics.silhouette_score(df_scale, labels, metric=\"euclidean\", sample_size=1000, random_state=200)\n",
    "    print(\"Silhoute score for k value : \", str(i), \", is \", str(score))"
   ]
  },
  {
   "cell_type": "markdown",
   "id": "fc71145b",
   "metadata": {},
   "source": [
    "#### Applying Kmeans with 5 Clusters (K=2)"
   ]
  },
  {
   "cell_type": "code",
   "execution_count": 26,
   "id": "675c3897",
   "metadata": {},
   "outputs": [],
   "source": [
    "kmeans = cluster.KMeans(n_clusters=5 ,init=\"k-means++\")\n",
    "kmeans = kmeans.fit(df[['Annual Income (k$)','Spending Score (1-100)']])"
   ]
  },
  {
   "cell_type": "code",
   "execution_count": 28,
   "id": "4da2573c",
   "metadata": {},
   "outputs": [
    {
     "data": {
      "image/png": "[encoded data removed]",
      "text/plain": [
       "<Figure size 432x288 with 1 Axes>"
      ]
     },
     "metadata": {
      "needs_background": "light"
     },
     "output_type": "display_data"
    }
   ],
   "source": [
    "df['Clusters'] = kmeans.labels_\n",
    "sns.scatterplot(x=\"Spending Score (1-100)\", y=\"Annual Income (k$)\",hue = 'Clusters',  data=df,palette='viridis');"
   ]
  },
  {
   "cell_type": "markdown",
   "id": "e79c2bd0",
   "metadata": {},
   "source": [
    "# K Means Clustering in Python Sklearn with Principal Component Analysis\n",
    "\n",
    "In real world scenarios there can be hundreds of attributes, to visualize the clustering results, the Principal Component Analysis is applied on the dataset to reduce its dimension to only two, while still reserving the information. And then clustering can be applied to this transformed dataset and then visualized in a 2-D plot. Moreover, PCA can also help to avoid the curse of dimensionality."
   ]
  },
  {
   "cell_type": "markdown",
   "id": "97030837",
   "metadata": {},
   "source": [
    "#### Load Dataset"
   ]
  },
  {
   "cell_type": "code",
   "execution_count": 29,
   "id": "ee185fa3",
   "metadata": {},
   "outputs": [
    {
     "data": {
      "text/html": [
       "<div>\n",
       "<style scoped>\n",
       "    .dataframe tbody tr th:only-of-type {\n",
       "        vertical-align: middle;\n",
       "    }\n",
       "\n",
       "    .dataframe tbody tr th {\n",
       "        vertical-align: top;\n",
       "    }\n",
       "\n",
       "    .dataframe thead th {\n",
       "        text-align: right;\n",
       "    }\n",
       "</style>\n",
       "<table border=\"1\" class=\"dataframe\">\n",
       "  <thead>\n",
       "    <tr style=\"text-align: right;\">\n",
       "      <th></th>\n",
       "      <th>CustomerID</th>\n",
       "      <th>Genre</th>\n",
       "      <th>Age</th>\n",
       "      <th>Annual Income (k$)</th>\n",
       "      <th>Spending Score (1-100)</th>\n",
       "    </tr>\n",
       "  </thead>\n",
       "  <tbody>\n",
       "    <tr>\n",
       "      <th>0</th>\n",
       "      <td>1</td>\n",
       "      <td>Male</td>\n",
       "      <td>19</td>\n",
       "      <td>15</td>\n",
       "      <td>39</td>\n",
       "    </tr>\n",
       "    <tr>\n",
       "      <th>1</th>\n",
       "      <td>2</td>\n",
       "      <td>Male</td>\n",
       "      <td>21</td>\n",
       "      <td>15</td>\n",
       "      <td>81</td>\n",
       "    </tr>\n",
       "    <tr>\n",
       "      <th>2</th>\n",
       "      <td>3</td>\n",
       "      <td>Female</td>\n",
       "      <td>20</td>\n",
       "      <td>16</td>\n",
       "      <td>6</td>\n",
       "    </tr>\n",
       "    <tr>\n",
       "      <th>3</th>\n",
       "      <td>4</td>\n",
       "      <td>Female</td>\n",
       "      <td>23</td>\n",
       "      <td>16</td>\n",
       "      <td>77</td>\n",
       "    </tr>\n",
       "    <tr>\n",
       "      <th>4</th>\n",
       "      <td>5</td>\n",
       "      <td>Female</td>\n",
       "      <td>31</td>\n",
       "      <td>17</td>\n",
       "      <td>40</td>\n",
       "    </tr>\n",
       "  </tbody>\n",
       "</table>\n",
       "</div>"
      ],
      "text/plain": [
       "   CustomerID   Genre  Age  Annual Income (k$)  Spending Score (1-100)\n",
       "0           1    Male   19                  15                      39\n",
       "1           2    Male   21                  15                      81\n",
       "2           3  Female   20                  16                       6\n",
       "3           4  Female   23                  16                      77\n",
       "4           5  Female   31                  17                      40"
      ]
     },
     "execution_count": 29,
     "metadata": {},
     "output_type": "execute_result"
    }
   ],
   "source": [
    "df = pd.read_csv(r\"../Datasets/Mall_Customers.csv\")\n",
    "df.head()"
   ]
  },
  {
   "cell_type": "markdown",
   "id": "cf255f35",
   "metadata": {},
   "source": [
    "#### Apply Feature Scaling\n",
    "\n",
    "Apply Feature Scaling on the columns - `Age`, `Annual Income` and `Spending Score`"
   ]
  },
  {
   "cell_type": "code",
   "execution_count": 30,
   "id": "7c1cee29",
   "metadata": {},
   "outputs": [
    {
     "data": {
      "text/html": [
       "<div>\n",
       "<style scoped>\n",
       "    .dataframe tbody tr th:only-of-type {\n",
       "        vertical-align: middle;\n",
       "    }\n",
       "\n",
       "    .dataframe tbody tr th {\n",
       "        vertical-align: top;\n",
       "    }\n",
       "\n",
       "    .dataframe thead th {\n",
       "        text-align: right;\n",
       "    }\n",
       "</style>\n",
       "<table border=\"1\" class=\"dataframe\">\n",
       "  <thead>\n",
       "    <tr style=\"text-align: right;\">\n",
       "      <th></th>\n",
       "      <th>Age</th>\n",
       "      <th>Annual Income (k$)</th>\n",
       "      <th>Spending Score (1-100)</th>\n",
       "    </tr>\n",
       "  </thead>\n",
       "  <tbody>\n",
       "    <tr>\n",
       "      <th>0</th>\n",
       "      <td>0.019231</td>\n",
       "      <td>0.000000</td>\n",
       "      <td>0.387755</td>\n",
       "    </tr>\n",
       "    <tr>\n",
       "      <th>1</th>\n",
       "      <td>0.057692</td>\n",
       "      <td>0.000000</td>\n",
       "      <td>0.816327</td>\n",
       "    </tr>\n",
       "    <tr>\n",
       "      <th>2</th>\n",
       "      <td>0.038462</td>\n",
       "      <td>0.008197</td>\n",
       "      <td>0.051020</td>\n",
       "    </tr>\n",
       "    <tr>\n",
       "      <th>3</th>\n",
       "      <td>0.096154</td>\n",
       "      <td>0.008197</td>\n",
       "      <td>0.775510</td>\n",
       "    </tr>\n",
       "    <tr>\n",
       "      <th>4</th>\n",
       "      <td>0.250000</td>\n",
       "      <td>0.016393</td>\n",
       "      <td>0.397959</td>\n",
       "    </tr>\n",
       "  </tbody>\n",
       "</table>\n",
       "</div>"
      ],
      "text/plain": [
       "        Age  Annual Income (k$)  Spending Score (1-100)\n",
       "0  0.019231            0.000000                0.387755\n",
       "1  0.057692            0.000000                0.816327\n",
       "2  0.038462            0.008197                0.051020\n",
       "3  0.096154            0.008197                0.775510\n",
       "4  0.250000            0.016393                0.397959"
      ]
     },
     "execution_count": 30,
     "metadata": {},
     "output_type": "execute_result"
    }
   ],
   "source": [
    "scaler = MinMaxScaler()\n",
    "\n",
    "scale = scaler.fit_transform(df[['Age','Annual Income (k$)','Spending Score (1-100)']])\n",
    "\n",
    "df_scale = pd.DataFrame(scale, columns = ['Age','Annual Income (k$)','Spending Score (1-100)']);\n",
    "df_scale.head(5)"
   ]
  },
  {
   "cell_type": "markdown",
   "id": "7ca41b5c",
   "metadata": {},
   "source": [
    "#### Applying PCA - Principal Component Analysis\n",
    "\n",
    "Now let us reduce the dimensionality of the dataset into two components"
   ]
  },
  {
   "cell_type": "code",
   "execution_count": 33,
   "id": "ec6e332b",
   "metadata": {},
   "outputs": [
    {
     "data": {
      "text/html": [
       "<div>\n",
       "<style scoped>\n",
       "    .dataframe tbody tr th:only-of-type {\n",
       "        vertical-align: middle;\n",
       "    }\n",
       "\n",
       "    .dataframe tbody tr th {\n",
       "        vertical-align: top;\n",
       "    }\n",
       "\n",
       "    .dataframe thead th {\n",
       "        text-align: right;\n",
       "    }\n",
       "</style>\n",
       "<table border=\"1\" class=\"dataframe\">\n",
       "  <thead>\n",
       "    <tr style=\"text-align: right;\">\n",
       "      <th></th>\n",
       "      <th>principal component 1</th>\n",
       "      <th>principal component 2</th>\n",
       "    </tr>\n",
       "  </thead>\n",
       "  <tbody>\n",
       "    <tr>\n",
       "      <th>0</th>\n",
       "      <td>-0.192221</td>\n",
       "      <td>0.319683</td>\n",
       "    </tr>\n",
       "    <tr>\n",
       "      <th>1</th>\n",
       "      <td>-0.458175</td>\n",
       "      <td>-0.018152</td>\n",
       "    </tr>\n",
       "    <tr>\n",
       "      <th>2</th>\n",
       "      <td>0.052562</td>\n",
       "      <td>0.551854</td>\n",
       "    </tr>\n",
       "    <tr>\n",
       "      <th>3</th>\n",
       "      <td>-0.402357</td>\n",
       "      <td>-0.014239</td>\n",
       "    </tr>\n",
       "    <tr>\n",
       "      <th>4</th>\n",
       "      <td>-0.031648</td>\n",
       "      <td>0.155578</td>\n",
       "    </tr>\n",
       "  </tbody>\n",
       "</table>\n",
       "</div>"
      ],
      "text/plain": [
       "   principal component 1  principal component 2\n",
       "0              -0.192221               0.319683\n",
       "1              -0.458175              -0.018152\n",
       "2               0.052562               0.551854\n",
       "3              -0.402357              -0.014239\n",
       "4              -0.031648               0.155578"
      ]
     },
     "execution_count": 33,
     "metadata": {},
     "output_type": "execute_result"
    }
   ],
   "source": [
    "from sklearn.decomposition import PCA\n",
    "pca = PCA(n_components=2)\n",
    "principalComponents = pca.fit_transform(df_scale)\n",
    "\n",
    "pca_df = pd.DataFrame(data = principalComponents, columns = ['principal component 1', 'principal component 2'])\n",
    "pca_df.head()"
   ]
  },
  {
   "cell_type": "markdown",
   "id": "228aff36",
   "metadata": {},
   "source": [
    "## Finding Optimum value of `K`"
   ]
  },
  {
   "cell_type": "markdown",
   "id": "83c26e9b",
   "metadata": {},
   "source": [
    "#### i) Elbow Method with Within-Cluster-Sum of Squared Error (WCSS)\n",
    "\n",
    "Within-Cluster-Sum of Squared Error (WCSS) is used to determine the optimum value of `K`."
   ]
  },
  {
   "cell_type": "code",
   "execution_count": 34,
   "id": "7be14615",
   "metadata": {},
   "outputs": [],
   "source": [
    "K=range(2,12)\n",
    "wss = []\n",
    "for k in K:\n",
    "    kmeans=cluster.KMeans(n_clusters=k)\n",
    "    kmeans=kmeans.fit(pca_df)\n",
    "    wss_iter = kmeans.inertia_\n",
    "    wss.append(wss_iter)"
   ]
  },
  {
   "cell_type": "code",
   "execution_count": 36,
   "id": "18eaee41",
   "metadata": {},
   "outputs": [
    {
     "data": {
      "image/png": "[encoded data removed]",
      "text/plain": [
       "<Figure size 432x288 with 1 Axes>"
      ]
     },
     "metadata": {
      "needs_background": "light"
     },
     "output_type": "display_data"
    }
   ],
   "source": [
    "plt.xlabel('K')\n",
    "plt.ylabel('Within-Cluster-Sum of Squared Errors (WSS)')\n",
    "plt.plot(K,wss);"
   ]
  },
  {
   "cell_type": "markdown",
   "id": "8013b5b2",
   "metadata": {},
   "source": [
    "From the above graph, it looks like there is a bend between `5` and `6`"
   ]
  },
  {
   "cell_type": "markdown",
   "id": "f72097da",
   "metadata": {},
   "source": [
    "#### ii) The Silhouette Method"
   ]
  },
  {
   "cell_type": "code",
   "execution_count": 38,
   "id": "8ee86c6b",
   "metadata": {},
   "outputs": [
    {
     "name": "stdout",
     "output_type": "stream",
     "text": [
      "Silhoute score for k value :  2 , is  0.47362694075028583\n",
      "Silhoute score for k value :  3 , is  0.4483908275384475\n",
      "Silhoute score for k value :  4 , is  0.43785291876777566\n",
      "Silhoute score for k value :  5 , is  0.45130680489606634\n",
      "Silhoute score for k value :  6 , is  0.4507847568968469\n",
      "Silhoute score for k value :  7 , is  0.4458795480456887\n",
      "Silhoute score for k value :  8 , is  0.4132957148795123\n",
      "Silhoute score for k value :  9 , is  0.41704286100651067\n",
      "Silhoute score for k value :  10 , is  0.4309783655094101\n",
      "Silhoute score for k value :  11 , is  0.42535265774570696\n",
      "Silhoute score for k value :  12 , is  0.41447250981390865\n"
     ]
    }
   ],
   "source": [
    "import sklearn.cluster as cluster\n",
    "import sklearn.metrics as metrics\n",
    "\n",
    "for i in range(2, 13):\n",
    "    labels = cluster.KMeans(n_clusters=i, random_state=200).fit(pca_df).labels_\n",
    "    score = metrics.silhouette_score(pca_df, labels, metric=\"euclidean\", sample_size=1000, random_state=200)\n",
    "    print(\"Silhoute score for k value : \", str(i), \", is \", str(score))"
   ]
  },
  {
   "cell_type": "markdown",
   "id": "5673a750",
   "metadata": {},
   "source": [
    "#### Applying Kmeans with 5 Clusters (`K=5`)"
   ]
  },
  {
   "cell_type": "code",
   "execution_count": 39,
   "id": "212abc5a",
   "metadata": {},
   "outputs": [],
   "source": [
    "kmeans = cluster.KMeans(n_clusters=5)\n",
    "kmeans = kmeans.fit(pca_df)"
   ]
  },
  {
   "cell_type": "code",
   "execution_count": 40,
   "id": "4688a3ac",
   "metadata": {},
   "outputs": [
    {
     "data": {
      "image/png": "[encoded data removed]",
      "text/plain": [
       "<Figure size 432x288 with 1 Axes>"
      ]
     },
     "metadata": {
      "needs_background": "light"
     },
     "output_type": "display_data"
    }
   ],
   "source": [
    "pca_df['Clusters'] = kmeans.labels_\n",
    "sns.scatterplot(x=\"principal component 1\", y=\"principal component 2\",hue = 'Clusters',  data=pca_df,palette='viridis');"
   ]
  },
  {
   "cell_type": "code",
   "execution_count": null,
   "id": "7431f3aa",
   "metadata": {},
   "outputs": [],
   "source": []
  }
 ],
 "metadata": {
  "kernelspec": {
   "display_name": "Python 3 (ipykernel)",
   "language": "python",
   "name": "python3"
  },
  "language_info": {
   "codemirror_mode": {
    "name": "ipython",
    "version": 3
   },
   "file_extension": ".py",
   "mimetype": "text/x-python",
   "name": "python",
   "nbconvert_exporter": "python",
   "pygments_lexer": "ipython3",
   "version": "3.9.12"
  }
 },
 "nbformat": 4,
 "nbformat_minor": 5
}
